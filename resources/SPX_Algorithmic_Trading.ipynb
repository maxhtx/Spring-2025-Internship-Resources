{
 "cells": [
  {
   "cell_type": "code",
   "execution_count": 15,
   "id": "30e30693",
   "metadata": {},
   "outputs": [
    {
     "name": "stdout",
     "output_type": "stream",
     "text": [
      "Requirement already satisfied: yfinance in c:\\users\\mohan\\anaconda3\\lib\\site-packages (0.2.36)\n",
      "Requirement already satisfied: pandas>=1.3.0 in c:\\users\\mohan\\anaconda3\\lib\\site-packages (from yfinance) (2.0.3)\n",
      "Requirement already satisfied: numpy>=1.16.5 in c:\\users\\mohan\\anaconda3\\lib\\site-packages (from yfinance) (1.24.3)\n",
      "Requirement already satisfied: requests>=2.31 in c:\\users\\mohan\\anaconda3\\lib\\site-packages (from yfinance) (2.31.0)\n",
      "Requirement already satisfied: multitasking>=0.0.7 in c:\\users\\mohan\\anaconda3\\lib\\site-packages (from yfinance) (0.0.11)\n",
      "Requirement already satisfied: lxml>=4.9.1 in c:\\users\\mohan\\anaconda3\\lib\\site-packages (from yfinance) (4.9.3)\n",
      "Requirement already satisfied: appdirs>=1.4.4 in c:\\users\\mohan\\anaconda3\\lib\\site-packages (from yfinance) (1.4.4)\n",
      "Requirement already satisfied: pytz>=2022.5 in c:\\users\\mohan\\anaconda3\\lib\\site-packages (from yfinance) (2023.3.post1)\n",
      "Requirement already satisfied: frozendict>=2.3.4 in c:\\users\\mohan\\anaconda3\\lib\\site-packages (from yfinance) (2.4.0)\n",
      "Requirement already satisfied: peewee>=3.16.2 in c:\\users\\mohan\\anaconda3\\lib\\site-packages (from yfinance) (3.17.0)\n",
      "Requirement already satisfied: beautifulsoup4>=4.11.1 in c:\\users\\mohan\\anaconda3\\lib\\site-packages (from yfinance) (4.12.2)\n",
      "Requirement already satisfied: html5lib>=1.1 in c:\\users\\mohan\\anaconda3\\lib\\site-packages (from yfinance) (1.1)\n",
      "Requirement already satisfied: soupsieve>1.2 in c:\\users\\mohan\\anaconda3\\lib\\site-packages (from beautifulsoup4>=4.11.1->yfinance) (2.4)\n",
      "Requirement already satisfied: six>=1.9 in c:\\users\\mohan\\anaconda3\\lib\\site-packages (from html5lib>=1.1->yfinance) (1.16.0)\n",
      "Requirement already satisfied: webencodings in c:\\users\\mohan\\anaconda3\\lib\\site-packages (from html5lib>=1.1->yfinance) (0.5.1)\n",
      "Requirement already satisfied: python-dateutil>=2.8.2 in c:\\users\\mohan\\anaconda3\\lib\\site-packages (from pandas>=1.3.0->yfinance) (2.8.2)\n",
      "Requirement already satisfied: tzdata>=2022.1 in c:\\users\\mohan\\anaconda3\\lib\\site-packages (from pandas>=1.3.0->yfinance) (2023.3)\n",
      "Requirement already satisfied: charset-normalizer<4,>=2 in c:\\users\\mohan\\anaconda3\\lib\\site-packages (from requests>=2.31->yfinance) (2.0.4)\n",
      "Requirement already satisfied: idna<4,>=2.5 in c:\\users\\mohan\\anaconda3\\lib\\site-packages (from requests>=2.31->yfinance) (2.10)\n",
      "Requirement already satisfied: urllib3<3,>=1.21.1 in c:\\users\\mohan\\anaconda3\\lib\\site-packages (from requests>=2.31->yfinance) (2.2.1)\n",
      "Requirement already satisfied: certifi>=2017.4.17 in c:\\users\\mohan\\anaconda3\\lib\\site-packages (from requests>=2.31->yfinance) (2023.11.17)\n",
      "Requirement already satisfied: pandas in c:\\users\\mohan\\anaconda3\\lib\\site-packages (2.0.3)\n",
      "Requirement already satisfied: python-dateutil>=2.8.2 in c:\\users\\mohan\\anaconda3\\lib\\site-packages (from pandas) (2.8.2)\n",
      "Requirement already satisfied: pytz>=2020.1 in c:\\users\\mohan\\anaconda3\\lib\\site-packages (from pandas) (2023.3.post1)\n",
      "Requirement already satisfied: tzdata>=2022.1 in c:\\users\\mohan\\anaconda3\\lib\\site-packages (from pandas) (2023.3)\n",
      "Requirement already satisfied: numpy>=1.21.0 in c:\\users\\mohan\\anaconda3\\lib\\site-packages (from pandas) (1.24.3)\n",
      "Requirement already satisfied: six>=1.5 in c:\\users\\mohan\\anaconda3\\lib\\site-packages (from python-dateutil>=2.8.2->pandas) (1.16.0)\n"
     ]
    }
   ],
   "source": [
    "!pip install yfinance\n",
    "!pip install pandas"
   ]
  },
  {
   "cell_type": "code",
   "execution_count": 8,
   "id": "4fdbc47e",
   "metadata": {},
   "outputs": [
    {
     "name": "stderr",
     "output_type": "stream",
     "text": [
      "[*********************100%%**********************]  10 of 10 completed\n"
     ]
    },
    {
     "name": "stdout",
     "output_type": "stream",
     "text": [
      "Ticker            XLB        XLE        XLF        XLI        XLK        XLP  \\\n",
      "Date                                                                           \n",
      "2015-01-02  39.974392  53.593716  16.656868  47.214458  36.498817  37.333607   \n",
      "2015-01-05  38.955509  51.376644  16.306612  46.111580  35.941666  37.071072   \n",
      "2015-01-06  38.610424  50.621910  16.057407  45.543430  35.508308  37.024731   \n",
      "2015-01-07  39.045910  50.729733  16.225792  45.885994  35.809002  37.657913   \n",
      "2015-01-08  39.974392  51.868584  16.468267  46.805042  36.596096  38.229290   \n",
      "\n",
      "Ticker      XLRE        XLU        XLV        XLY  \n",
      "Date                                               \n",
      "2015-01-02   NaN  34.486660  58.564087  64.070145  \n",
      "2015-01-05   NaN  34.065025  58.265415  62.844730  \n",
      "2015-01-06   NaN  34.086823  58.069153  62.218605  \n",
      "2015-01-07   NaN  34.421246  59.434483  63.202534  \n",
      "2015-01-08   NaN  34.661114  60.449932  64.150650  \n"
     ]
    }
   ],
   "source": [
    "import yfinance as yf\n",
    "import pandas as pd\n",
    "\n",
    "# Define sector indices ETFs\n",
    "sector_etfs = [\n",
    "    \"XLF\",  # Financials\n",
    "    \"XLK\",  # Technology\n",
    "    \"XLE\",  # Energy\n",
    "    \"XLY\",  # Consumer Discretionary\n",
    "    \"XLP\",  # Consumer Staples\n",
    "    \"XLV\",  # Health Care\n",
    "    \"XLI\",  # Industrials\n",
    "    \"XLU\",  # Utilities\n",
    "    \"XLRE\", # Real Estate\n",
    "    \"XLB\"   # Materials\n",
    "]\n",
    "\n",
    "# Download data from Yahoo Finance\n",
    "data = yf.download(sector_etfs, start=\"2015-01-01\", end=\"2024-11-27\")[\"Adj Close\"]\n",
    "\n",
    "# Save to CSV for reference\n",
    "data.to_csv(\"sector_indices_data.csv\")\n",
    "print(data.head())\n"
   ]
  },
  {
   "cell_type": "code",
   "execution_count": 9,
   "id": "8936918f",
   "metadata": {},
   "outputs": [
    {
     "name": "stdout",
     "output_type": "stream",
     "text": [
      "Ticker           XLB       XLE       XLF       XLI       XLK       XLP  \\\n",
      "Date                                                                     \n",
      "2015-03-31       NaN       NaN       NaN       NaN       NaN       NaN   \n",
      "2015-06-30 -0.003462 -0.024758  0.015619 -0.025849  0.003530 -0.017337   \n",
      "2015-09-30 -0.170447 -0.179731 -0.066004 -0.072150 -0.041592 -0.002217   \n",
      "2015-12-31  0.095823 -0.005452  0.058222  0.068989  0.089750  0.077811   \n",
      "2016-03-31  0.035595  0.033353 -0.051622  0.051775  0.040958  0.056303   \n",
      "\n",
      "Ticker          XLRE       XLU       XLV       XLY  \n",
      "Date                                                \n",
      "2015-03-31       NaN       NaN       NaN       NaN  \n",
      "2015-06-30       NaN -0.058359  0.029603  0.018223  \n",
      "2015-09-30       NaN  0.053998 -0.106465 -0.025368  \n",
      "2015-12-31       NaN  0.010105  0.092180  0.056872  \n",
      "2016-03-31  0.041158  0.155108 -0.055627  0.016192  \n"
     ]
    }
   ],
   "source": [
    "# Compute quarterly returns\n",
    "quarterly_returns = data.resample('Q').ffill().pct_change()\n",
    "\n",
    "# Save to CSV\n",
    "quarterly_returns.to_csv(\"quarterly_returns.csv\")\n",
    "print(quarterly_returns.head())\n"
   ]
  },
  {
   "cell_type": "code",
   "execution_count": 10,
   "id": "a7f1a1b8",
   "metadata": {},
   "outputs": [
    {
     "name": "stdout",
     "output_type": "stream",
     "text": [
      "Variance-Covariance Matrix:\n",
      "Ticker       XLB       XLE       XLF       XLI       XLK       XLP      XLRE  \\\n",
      "Ticker                                                                         \n",
      "XLB     0.009544  0.009705  0.007882  0.008541  0.007747  0.004603  0.006384   \n",
      "XLE     0.009705  0.026101  0.010600  0.009290  0.005472  0.003575  0.005188   \n",
      "XLF     0.007882  0.010600  0.010288  0.008431  0.005897  0.003515  0.005380   \n",
      "XLI     0.008541  0.009290  0.008431  0.009092  0.007323  0.004519  0.006105   \n",
      "XLK     0.007747  0.005472  0.005897  0.007323  0.010379  0.003669  0.006060   \n",
      "XLP     0.004603  0.003575  0.003515  0.004519  0.003669  0.003422  0.004074   \n",
      "XLRE    0.006384  0.005188  0.005380  0.006105  0.006060  0.004074  0.007525   \n",
      "XLU     0.003332  0.002894  0.002771  0.003512  0.001949  0.002969  0.004282   \n",
      "XLV     0.005359  0.005206  0.004459  0.004936  0.004554  0.002917  0.003658   \n",
      "XLY     0.007566  0.005677  0.006399  0.007197  0.009183  0.003389  0.006442   \n",
      "\n",
      "Ticker       XLU       XLV       XLY  \n",
      "Ticker                                \n",
      "XLB     0.003332  0.005359  0.007566  \n",
      "XLE     0.002894  0.005206  0.005677  \n",
      "XLF     0.002771  0.004459  0.006399  \n",
      "XLI     0.003512  0.004936  0.007197  \n",
      "XLK     0.001949  0.004554  0.009183  \n",
      "XLP     0.002969  0.002917  0.003389  \n",
      "XLRE    0.004282  0.003658  0.006442  \n",
      "XLU     0.004245  0.001662  0.002328  \n",
      "XLV     0.001662  0.004795  0.003820  \n",
      "XLY     0.002328  0.003820  0.010549  \n"
     ]
    }
   ],
   "source": [
    "# Variance-covariance matrix\n",
    "cov_matrix = quarterly_returns.cov()\n",
    "\n",
    "# Save to CSV\n",
    "cov_matrix.to_csv(\"variance_covariance_matrix.csv\")\n",
    "print(\"Variance-Covariance Matrix:\")\n",
    "print(cov_matrix)\n"
   ]
  },
  {
   "cell_type": "code",
   "execution_count": 11,
   "id": "50715894",
   "metadata": {},
   "outputs": [
    {
     "name": "stdout",
     "output_type": "stream",
     "text": [
      "Average Quarterly Returns:\n",
      "Ticker\n",
      "XLB     0.026896\n",
      "XLE     0.029249\n",
      "XLF     0.035079\n",
      "XLI     0.033808\n",
      "XLK     0.053615\n",
      "XLP     0.021865\n",
      "XLRE    0.022243\n",
      "XLU     0.026279\n",
      "XLV     0.024525\n",
      "XLY     0.036106\n",
      "dtype: float64\n"
     ]
    }
   ],
   "source": [
    "# Compute average quarterly returns\n",
    "average_returns = quarterly_returns.mean()\n",
    "\n",
    "# Save to CSV\n",
    "average_returns.to_csv(\"average_historical_returns.csv\")\n",
    "print(\"Average Quarterly Returns:\")\n",
    "print(average_returns)\n"
   ]
  },
  {
   "cell_type": "code",
   "execution_count": 12,
   "id": "6df72bb8",
   "metadata": {},
   "outputs": [
    {
     "name": "stdout",
     "output_type": "stream",
     "text": [
      "Machine Learning Ready Data:\n",
      "Ticker           XLB       XLE       XLF       XLI       XLK       XLP  \\\n",
      "Date                                                                     \n",
      "2015-12-31  0.035595  0.033353 -0.051622  0.051775  0.040958  0.056303   \n",
      "2016-03-31  0.039316  0.109862  0.021433  0.015302 -0.017558  0.045643   \n",
      "2016-06-30  0.035739  0.040985  0.044264  0.048010  0.106240 -0.029202   \n",
      "2016-09-30  0.047712  0.072344  0.210134  0.072303  0.016606 -0.020942   \n",
      "2016-12-31  0.057845 -0.066393  0.024283  0.050398  0.106603  0.061054   \n",
      "\n",
      "Ticker          XLRE       XLU       XLV       XLY  \n",
      "Date                                                \n",
      "2015-12-31  0.041158  0.155108 -0.055627  0.016192  \n",
      "2016-03-31  0.053088  0.066086  0.062241 -0.009646  \n",
      "2016-06-30 -0.019258 -0.058362  0.009472  0.029275  \n",
      "2016-09-30 -0.044418  0.001024 -0.039766  0.023013  \n",
      "2016-12-31  0.034197  0.064442  0.082530  0.083699  \n"
     ]
    }
   ],
   "source": [
    "# Prepare data for machine learning: Features are past returns, target is next quarter's returns\n",
    "ml_data = quarterly_returns.shift(-1).dropna()\n",
    "\n",
    "# Save to CSV\n",
    "ml_data.to_csv(\"ml_ready_data.csv\")\n",
    "print(\"Machine Learning Ready Data:\")\n",
    "print(ml_data.head())\n"
   ]
  },
  {
   "cell_type": "code",
   "execution_count": 13,
   "id": "1d2213e8",
   "metadata": {},
   "outputs": [
    {
     "name": "stdout",
     "output_type": "stream",
     "text": [
      "Optimal Portfolio Weights:\n",
      "[1.78800995e-17 0.00000000e+00 1.47451495e-17 0.00000000e+00\n",
      " 2.17846255e-01 2.08668600e-01 6.64887847e-18 3.75856192e-01\n",
      " 1.97628953e-01 1.44909677e-17]\n"
     ]
    }
   ],
   "source": [
    "import numpy as np\n",
    "from scipy.optimize import minimize\n",
    "\n",
    "# Define the mean-variance optimization function\n",
    "def mean_variance_optimization(returns, cov_matrix, target_return):\n",
    "    n = len(returns)\n",
    "    initial_weights = np.ones(n) / n  # Equal weights as starting point\n",
    "    \n",
    "    # Objective function: Minimize portfolio variance\n",
    "    def portfolio_variance(weights):\n",
    "        return np.dot(weights.T, np.dot(cov_matrix, weights))\n",
    "    \n",
    "    # Constraints: Sum of weights = 1, Achieve target return\n",
    "    constraints = [\n",
    "        {\"type\": \"eq\", \"fun\": lambda weights: np.sum(weights) - 1},\n",
    "        {\"type\": \"eq\", \"fun\": lambda weights: np.dot(weights, returns) - target_return}\n",
    "    ]\n",
    "    \n",
    "    # Bounds for weights: Long-only portfolio (0 to 1)\n",
    "    bounds = [(0, 1) for _ in range(n)]\n",
    "    \n",
    "    # Solve the optimization problem\n",
    "    result = minimize(portfolio_variance, initial_weights, constraints=constraints, bounds=bounds)\n",
    "    return result.x if result.success else None\n",
    "\n",
    "# Target return: Average of historical returns\n",
    "target_return = average_returns.mean()\n",
    "\n",
    "# Optimal weights\n",
    "optimal_weights = mean_variance_optimization(average_returns, cov_matrix, target_return)\n",
    "print(\"Optimal Portfolio Weights:\")\n",
    "print(optimal_weights)\n",
    "\n",
    "# Save weights to CSV\n",
    "pd.Series(optimal_weights, index=sector_etfs).to_csv(\"optimal_portfolio_weights.csv\")\n"
   ]
  },
  {
   "cell_type": "code",
   "execution_count": 14,
   "id": "68b97950",
   "metadata": {},
   "outputs": [
    {
     "name": "stdout",
     "output_type": "stream",
     "text": [
      "Sector Allocations:\n",
      "  Sector        Weight  Allocation ($)\n",
      "0    XLF  1.788010e-17    1.788010e-11\n",
      "1    XLK  0.000000e+00    0.000000e+00\n",
      "2    XLE  1.474515e-17    1.474515e-11\n",
      "3    XLY  0.000000e+00    0.000000e+00\n",
      "4    XLP  2.178463e-01    2.178463e+05\n",
      "5    XLV  2.086686e-01    2.086686e+05\n",
      "6    XLI  6.648878e-18    6.648878e-12\n",
      "7    XLU  3.758562e-01    3.758562e+05\n",
      "8   XLRE  1.976290e-01    1.976290e+05\n",
      "9    XLB  1.449097e-17    1.449097e-11\n"
     ]
    }
   ],
   "source": [
    "# Allocate portfolio value across sectors based on optimal weights\n",
    "portfolio_value = 1_000_000  # Example: $1,000,000 portfolio\n",
    "allocations = optimal_weights * portfolio_value\n",
    "\n",
    "# Save allocations\n",
    "allocation_df = pd.DataFrame({\n",
    "    \"Sector\": sector_etfs,\n",
    "    \"Weight\": optimal_weights,\n",
    "    \"Allocation ($)\": allocations\n",
    "})\n",
    "allocation_df.to_csv(\"sector_allocations.csv\", index=False)\n",
    "print(\"Sector Allocations:\")\n",
    "print(allocation_df)\n"
   ]
  },
  {
   "cell_type": "code",
   "execution_count": null,
   "id": "be248631",
   "metadata": {},
   "outputs": [],
   "source": []
  }
 ],
 "metadata": {
  "kernelspec": {
   "display_name": "Python 3 (ipykernel)",
   "language": "python",
   "name": "python3"
  },
  "language_info": {
   "codemirror_mode": {
    "name": "ipython",
    "version": 3
   },
   "file_extension": ".py",
   "mimetype": "text/x-python",
   "name": "python",
   "nbconvert_exporter": "python",
   "pygments_lexer": "ipython3",
   "version": "3.11.5"
  }
 },
 "nbformat": 4,
 "nbformat_minor": 5
}
