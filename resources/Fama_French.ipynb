{
  "nbformat": 4,
  "nbformat_minor": 0,
  "metadata": {
    "colab": {
      "provenance": []
    },
    "kernelspec": {
      "name": "python3",
      "display_name": "Python 3"
    },
    "language_info": {
      "name": "python"
    }
  },
  "cells": [
    {
      "cell_type": "code",
      "execution_count": 1,
      "metadata": {
        "id": "a3LmaJ309EN7"
      },
      "outputs": [],
      "source": [
        "import pandas as pd\n",
        "import numpy as np"
      ]
    },
    {
      "cell_type": "code",
      "source": [
        "start_date = \"1960-01-01\"\n",
        "end_date = \"2024-12-16\""
      ],
      "metadata": {
        "id": "I3k6x0FG9JBN"
      },
      "execution_count": 2,
      "outputs": []
    },
    {
      "cell_type": "code",
      "source": [
        "import pandas_datareader as pdr"
      ],
      "metadata": {
        "id": "8sBOOCqu9Ofb"
      },
      "execution_count": 3,
      "outputs": []
    },
    {
      "cell_type": "code",
      "source": [
        "factors_ff3_monthly_raw = pdr.DataReader(\n",
        "name=\"F-F_Research_Data_Factors\",\n",
        "data_source=\"famafrench\",\n",
        "start=start_date,\n",
        "end=end_date)[0]\n",
        "factors_ff3_monthly = (factors_ff3_monthly_raw\n",
        ".divide(100)\n",
        ".reset_index(names=\"month\")\n",
        ".assign(month=lambda x: pd.to_datetime(x[\"month\"].astype(str)))\n",
        ".rename(str.lower, axis=\"columns\")\n",
        ".rename(columns={\"mkt-rf\": \"mkt_excess\"})\n",
        ")"
      ],
      "metadata": {
        "colab": {
          "base_uri": "https://localhost:8080/"
        },
        "id": "KmFHBBuU9y5J",
        "outputId": "ee2191b8-81d0-4193-96c4-d0b49c0d8ad0"
      },
      "execution_count": 4,
      "outputs": [
        {
          "output_type": "stream",
          "name": "stderr",
          "text": [
            "<ipython-input-4-2e8d585653d5>:1: FutureWarning: The argument 'date_parser' is deprecated and will be removed in a future version. Please use 'date_format' instead, or read your data in as 'object' dtype and then call 'to_datetime'.\n",
            "  factors_ff3_monthly_raw = pdr.DataReader(\n",
            "<ipython-input-4-2e8d585653d5>:1: FutureWarning: The argument 'date_parser' is deprecated and will be removed in a future version. Please use 'date_format' instead, or read your data in as 'object' dtype and then call 'to_datetime'.\n",
            "  factors_ff3_monthly_raw = pdr.DataReader(\n"
          ]
        }
      ]
    },
    {
      "cell_type": "code",
      "source": [
        "factors_ff5_monthly_raw = pdr.DataReader(\n",
        "name=\"F-F_Research_Data_5_Factors_2x3\",\n",
        "data_source=\"famafrench\",\n",
        "start=start_date,\n",
        "end=end_date)[0]\n",
        "factors_ff5_monthly = (factors_ff5_monthly_raw\n",
        ".divide(100)\n",
        ".reset_index(names=\"month\")\n",
        ".assign(month=lambda x: pd.to_datetime(x[\"month\"].astype(str)))\n",
        ".rename(str.lower, axis=\"columns\")\n",
        ".rename(columns={\"mkt-rf\": \"mkt_excess\"})\n",
        ")"
      ],
      "metadata": {
        "colab": {
          "base_uri": "https://localhost:8080/"
        },
        "id": "2_i7Smby92dE",
        "outputId": "310f1f0a-41ac-40f0-83ad-68efd9728d7d"
      },
      "execution_count": 5,
      "outputs": [
        {
          "output_type": "stream",
          "name": "stderr",
          "text": [
            "<ipython-input-5-6fa4eb749b87>:1: FutureWarning: The argument 'date_parser' is deprecated and will be removed in a future version. Please use 'date_format' instead, or read your data in as 'object' dtype and then call 'to_datetime'.\n",
            "  factors_ff5_monthly_raw = pdr.DataReader(\n",
            "<ipython-input-5-6fa4eb749b87>:1: FutureWarning: The argument 'date_parser' is deprecated and will be removed in a future version. Please use 'date_format' instead, or read your data in as 'object' dtype and then call 'to_datetime'.\n",
            "  factors_ff5_monthly_raw = pdr.DataReader(\n"
          ]
        }
      ]
    },
    {
      "cell_type": "code",
      "source": [
        "factors_ff3_daily_raw = pdr.DataReader(\n",
        "name=\"F-F_Research_Data_Factors_daily\",\n",
        "data_source=\"famafrench\",\n",
        "start=start_date,\n",
        "end=end_date)[0]\n",
        "factors_ff3_daily = (factors_ff3_daily_raw\n",
        ".divide(100)\n",
        ".reset_index(names=\"date\")\n",
        ".rename(str.lower, axis=\"columns\")\n",
        ".rename(columns={\"mkt-rf\": \"mkt_excess\"})\n",
        ")"
      ],
      "metadata": {
        "colab": {
          "base_uri": "https://localhost:8080/"
        },
        "id": "0Kxj9-GR95x1",
        "outputId": "4512b747-2ba8-4cd3-8fb1-6e15895c7c32"
      },
      "execution_count": 6,
      "outputs": [
        {
          "output_type": "stream",
          "name": "stderr",
          "text": [
            "<ipython-input-6-d7271dea11ae>:1: FutureWarning: The argument 'date_parser' is deprecated and will be removed in a future version. Please use 'date_format' instead, or read your data in as 'object' dtype and then call 'to_datetime'.\n",
            "  factors_ff3_daily_raw = pdr.DataReader(\n"
          ]
        }
      ]
    },
    {
      "cell_type": "code",
      "source": [
        "industries_ff_monthly_raw = pdr.DataReader(\n",
        "name=\"10_Industry_Portfolios\",\n",
        "data_source=\"famafrench\",\n",
        "start=start_date,\n",
        "end=end_date)[0]\n",
        "industries_ff_monthly = (industries_ff_monthly_raw\n",
        ".divide(100)\n",
        ".reset_index(names=\"month\")\n",
        ".assign(month=lambda x: pd.to_datetime(x[\"month\"].astype(str)))\n",
        ".rename(str.lower, axis=\"columns\")\n",
        ")"
      ],
      "metadata": {
        "colab": {
          "base_uri": "https://localhost:8080/"
        },
        "id": "5fNmDCxt-0l5",
        "outputId": "57d2193d-40ed-42e9-9ed3-a68cbf4bd389"
      },
      "execution_count": 7,
      "outputs": [
        {
          "output_type": "stream",
          "name": "stderr",
          "text": [
            "<ipython-input-7-a7e322091467>:1: FutureWarning: The argument 'date_parser' is deprecated and will be removed in a future version. Please use 'date_format' instead, or read your data in as 'object' dtype and then call 'to_datetime'.\n",
            "  industries_ff_monthly_raw = pdr.DataReader(\n",
            "<ipython-input-7-a7e322091467>:1: FutureWarning: The argument 'date_parser' is deprecated and will be removed in a future version. Please use 'date_format' instead, or read your data in as 'object' dtype and then call 'to_datetime'.\n",
            "  industries_ff_monthly_raw = pdr.DataReader(\n",
            "<ipython-input-7-a7e322091467>:1: FutureWarning: The argument 'date_parser' is deprecated and will be removed in a future version. Please use 'date_format' instead, or read your data in as 'object' dtype and then call 'to_datetime'.\n",
            "  industries_ff_monthly_raw = pdr.DataReader(\n",
            "<ipython-input-7-a7e322091467>:1: FutureWarning: The argument 'date_parser' is deprecated and will be removed in a future version. Please use 'date_format' instead, or read your data in as 'object' dtype and then call 'to_datetime'.\n",
            "  industries_ff_monthly_raw = pdr.DataReader(\n",
            "<ipython-input-7-a7e322091467>:1: FutureWarning: The argument 'date_parser' is deprecated and will be removed in a future version. Please use 'date_format' instead, or read your data in as 'object' dtype and then call 'to_datetime'.\n",
            "  industries_ff_monthly_raw = pdr.DataReader(\n",
            "<ipython-input-7-a7e322091467>:1: FutureWarning: The argument 'date_parser' is deprecated and will be removed in a future version. Please use 'date_format' instead, or read your data in as 'object' dtype and then call 'to_datetime'.\n",
            "  industries_ff_monthly_raw = pdr.DataReader(\n",
            "<ipython-input-7-a7e322091467>:1: FutureWarning: The argument 'date_parser' is deprecated and will be removed in a future version. Please use 'date_format' instead, or read your data in as 'object' dtype and then call 'to_datetime'.\n",
            "  industries_ff_monthly_raw = pdr.DataReader(\n",
            "<ipython-input-7-a7e322091467>:1: FutureWarning: The argument 'date_parser' is deprecated and will be removed in a future version. Please use 'date_format' instead, or read your data in as 'object' dtype and then call 'to_datetime'.\n",
            "  industries_ff_monthly_raw = pdr.DataReader(\n"
          ]
        }
      ]
    },
    {
      "cell_type": "code",
      "source": [
        "factors_q_monthly_link = (\n",
        "    \"https://global-q.org/uploads/1/2/2/6/122679606/\"\n",
        "    \"q5_factors_monthly_2022.csv\"\n",
        ")\n",
        "\n",
        "factors_q_monthly = (\n",
        "    pd.read_csv(factors_q_monthly_link)\n",
        "    .assign(\n",
        "        month=lambda x: pd.to_datetime(\n",
        "            x[\"year\"].astype(str) + \"-\"\n",
        "            + x[\"month\"].astype(str) + \"-01\"\n",
        "        )\n",
        "    )\n",
        "    .drop(columns=[\"R_F\", \"R_MKT\", \"year\"])\n",
        "    .rename(columns=lambda x: x.replace(\"R_\", \"\").lower())\n",
        "    .query(f\"month >= '{start_date}' and month <= '{end_date}'\")\n",
        "    .assign(**{col: lambda x: x[col] / 100 for col in [\"me\", \"ia\", \"roe\", \"eg\"]})\n",
        ")\n",
        "\n"
      ],
      "metadata": {
        "id": "hh_Dhgjg-68D"
      },
      "execution_count": 13,
      "outputs": []
    },
    {
      "cell_type": "code",
      "source": [
        "sheet_id = \"1g4LOaRj4TvwJr9RIaA_nwrXXWTOy46bP\"\n",
        "sheet_name = \"macro_predictors.xlsx\"\n",
        "macro_predictors_link = (\n",
        "f\"https://docs.google.com/spreadsheets/d/{sheet_id}\"\n",
        "f\"/gviz/tq?tqx=out:csv&sheet={sheet_name}\"\n",
        ")"
      ],
      "metadata": {
        "id": "axzY1Zws_ggj"
      },
      "execution_count": 14,
      "outputs": []
    },
    {
      "cell_type": "code",
      "source": [
        "macro_predictors = (\n",
        "pd.read_csv(macro_predictors_link, thousands=\",\")\n",
        ".assign(\n",
        "month=lambda x: pd.to_datetime(x[\"yyyymm\"], format=\"%Y%m\"),\n",
        "dp=lambda x: np.log(x[\"D12\"])-np.log(x[\"Index\"]),\n",
        "dy=lambda x: np.log(x[\"D12\"])-np.log(x[\"D12\"].shift(1)),\n",
        "ep=lambda x: np.log(x[\"E12\"])-np.log(x[\"Index\"]),\n",
        "de=lambda x: np.log(x[\"D12\"])-np.log(x[\"E12\"]),\n",
        "tms=lambda x: x[\"lty\"]-x[\"tbl\"],\n",
        "dfy=lambda x: x[\"BAA\"]-x[\"AAA\"]\n",
        ")\n",
        ".rename(columns={\"b/m\": \"bm\"})\n",
        ".get([\"month\", \"dp\", \"dy\", \"ep\", \"de\", \"svar\", \"bm\",\n",
        "\"ntis\", \"tbl\", \"lty\", \"ltr\", \"tms\", \"dfy\", \"infl\"])\n",
        ".query(\"month >= @start_date and month <= @end_date\")\n",
        ".dropna()\n",
        ")"
      ],
      "metadata": {
        "id": "AgVB2DMw_5SM"
      },
      "execution_count": 15,
      "outputs": []
    },
    {
      "cell_type": "code",
      "source": [
        "cpi_monthly = (pdr.DataReader(\n",
        "name=\"CPIAUCNS\",\n",
        "data_source=\"fred\",\n",
        "start=start_date,\n",
        "end=end_date\n",
        ")\n",
        ".reset_index(names=\"month\")\n",
        ".rename(columns={\"CPIAUCNS\": \"cpi\"})\n",
        ".assign(cpi=lambda x: x[\"cpi\"]/x[\"cpi\"].iloc[-1])\n",
        ")"
      ],
      "metadata": {
        "id": "23AgwqDj_9kX"
      },
      "execution_count": 16,
      "outputs": []
    },
    {
      "cell_type": "code",
      "source": [
        "#import sqlite3"
      ],
      "metadata": {
        "id": "yTUz9DjDACfu"
      },
      "execution_count": 17,
      "outputs": []
    },
    {
      "cell_type": "code",
      "source": [
        "#tidy_finance = sqlite3.connect(database=\"data/tidy_finance_python.sqlite\")"
      ],
      "metadata": {
        "colab": {
          "base_uri": "https://localhost:8080/",
          "height": 141
        },
        "id": "5YixkrVBAFwI",
        "outputId": "51bbb05d-164e-445d-9eb3-29fadbbf5cd4"
      },
      "execution_count": 18,
      "outputs": [
        {
          "output_type": "error",
          "ename": "OperationalError",
          "evalue": "unable to open database file",
          "traceback": [
            "\u001b[0;31m---------------------------------------------------------------------------\u001b[0m",
            "\u001b[0;31mOperationalError\u001b[0m                          Traceback (most recent call last)",
            "\u001b[0;32m<ipython-input-18-4b9a0a6f5293>\u001b[0m in \u001b[0;36m<cell line: 1>\u001b[0;34m()\u001b[0m\n\u001b[0;32m----> 1\u001b[0;31m \u001b[0mtidy_finance\u001b[0m \u001b[0;34m=\u001b[0m \u001b[0msqlite3\u001b[0m\u001b[0;34m.\u001b[0m\u001b[0mconnect\u001b[0m\u001b[0;34m(\u001b[0m\u001b[0mdatabase\u001b[0m\u001b[0;34m=\u001b[0m\u001b[0;34m\"data/tidy_finance_python.sqlite\"\u001b[0m\u001b[0;34m)\u001b[0m\u001b[0;34m\u001b[0m\u001b[0;34m\u001b[0m\u001b[0m\n\u001b[0m",
            "\u001b[0;31mOperationalError\u001b[0m: unable to open database file"
          ]
        }
      ]
    },
    {
      "cell_type": "code",
      "source": [
        "from google.colab import drive\n",
        "drive.mount('/content/drive')\n"
      ],
      "metadata": {
        "colab": {
          "base_uri": "https://localhost:8080/"
        },
        "id": "okNC5Wh0AH-1",
        "outputId": "65b2fa00-c10a-4409-ff09-41ea13fd106c"
      },
      "execution_count": 21,
      "outputs": [
        {
          "output_type": "stream",
          "name": "stdout",
          "text": [
            "Mounted at /content/drive\n"
          ]
        }
      ]
    },
    {
      "cell_type": "code",
      "source": [
        "import sqlite3\n",
        "\n",
        "# Path to the database file in Google Drive\n",
        "db_path = \"/content/drive/My Drive/tidy_finance_python.sqlite\"\n",
        "\n",
        "# Connect to the database\n",
        "tidy_finance = sqlite3.connect(db_path)\n"
      ],
      "metadata": {
        "id": "9bc-PCpXDVsM"
      },
      "execution_count": 22,
      "outputs": []
    },
    {
      "cell_type": "code",
      "source": [
        "(factors_ff3_monthly\n",
        ".to_sql(name=\"factors_ff3_monthly\",\n",
        "con=tidy_finance,\n",
        "if_exists=\"replace\",\n",
        "index=False)\n",
        ")"
      ],
      "metadata": {
        "colab": {
          "base_uri": "https://localhost:8080/"
        },
        "id": "dOXRL4iCDdoN",
        "outputId": "e6bf75a9-93f1-4790-9426-01f4d3d294ad"
      },
      "execution_count": 23,
      "outputs": [
        {
          "output_type": "execute_result",
          "data": {
            "text/plain": [
              "756"
            ]
          },
          "metadata": {},
          "execution_count": 23
        }
      ]
    },
    {
      "cell_type": "code",
      "source": [
        "pd.read_sql_query(\n",
        "sql=\"SELECT month, rf FROM factors_ff3_monthly\",\n",
        "con=tidy_finance,\n",
        "parse_dates={\"month\"}\n",
        ")"
      ],
      "metadata": {
        "colab": {
          "base_uri": "https://localhost:8080/",
          "height": 423
        },
        "id": "Jc7PZ5K2DkNy",
        "outputId": "778747d3-6a4a-4811-df10-ecc574ad33ec"
      },
      "execution_count": 24,
      "outputs": [
        {
          "output_type": "execute_result",
          "data": {
            "text/plain": [
              "         month      rf\n",
              "0   1960-01-01  0.0033\n",
              "1   1960-02-01  0.0029\n",
              "2   1960-03-01  0.0035\n",
              "3   1960-04-01  0.0019\n",
              "4   1960-05-01  0.0027\n",
              "..         ...     ...\n",
              "751 2022-08-01  0.0019\n",
              "752 2022-09-01  0.0019\n",
              "753 2022-10-01  0.0023\n",
              "754 2022-11-01  0.0029\n",
              "755 2022-12-01  0.0033\n",
              "\n",
              "[756 rows x 2 columns]"
            ],
            "text/html": [
              "\n",
              "  <div id=\"df-c980da51-ae32-43fc-a4c5-83d49505dd9a\" class=\"colab-df-container\">\n",
              "    <div>\n",
              "<style scoped>\n",
              "    .dataframe tbody tr th:only-of-type {\n",
              "        vertical-align: middle;\n",
              "    }\n",
              "\n",
              "    .dataframe tbody tr th {\n",
              "        vertical-align: top;\n",
              "    }\n",
              "\n",
              "    .dataframe thead th {\n",
              "        text-align: right;\n",
              "    }\n",
              "</style>\n",
              "<table border=\"1\" class=\"dataframe\">\n",
              "  <thead>\n",
              "    <tr style=\"text-align: right;\">\n",
              "      <th></th>\n",
              "      <th>month</th>\n",
              "      <th>rf</th>\n",
              "    </tr>\n",
              "  </thead>\n",
              "  <tbody>\n",
              "    <tr>\n",
              "      <th>0</th>\n",
              "      <td>1960-01-01</td>\n",
              "      <td>0.0033</td>\n",
              "    </tr>\n",
              "    <tr>\n",
              "      <th>1</th>\n",
              "      <td>1960-02-01</td>\n",
              "      <td>0.0029</td>\n",
              "    </tr>\n",
              "    <tr>\n",
              "      <th>2</th>\n",
              "      <td>1960-03-01</td>\n",
              "      <td>0.0035</td>\n",
              "    </tr>\n",
              "    <tr>\n",
              "      <th>3</th>\n",
              "      <td>1960-04-01</td>\n",
              "      <td>0.0019</td>\n",
              "    </tr>\n",
              "    <tr>\n",
              "      <th>4</th>\n",
              "      <td>1960-05-01</td>\n",
              "      <td>0.0027</td>\n",
              "    </tr>\n",
              "    <tr>\n",
              "      <th>...</th>\n",
              "      <td>...</td>\n",
              "      <td>...</td>\n",
              "    </tr>\n",
              "    <tr>\n",
              "      <th>751</th>\n",
              "      <td>2022-08-01</td>\n",
              "      <td>0.0019</td>\n",
              "    </tr>\n",
              "    <tr>\n",
              "      <th>752</th>\n",
              "      <td>2022-09-01</td>\n",
              "      <td>0.0019</td>\n",
              "    </tr>\n",
              "    <tr>\n",
              "      <th>753</th>\n",
              "      <td>2022-10-01</td>\n",
              "      <td>0.0023</td>\n",
              "    </tr>\n",
              "    <tr>\n",
              "      <th>754</th>\n",
              "      <td>2022-11-01</td>\n",
              "      <td>0.0029</td>\n",
              "    </tr>\n",
              "    <tr>\n",
              "      <th>755</th>\n",
              "      <td>2022-12-01</td>\n",
              "      <td>0.0033</td>\n",
              "    </tr>\n",
              "  </tbody>\n",
              "</table>\n",
              "<p>756 rows × 2 columns</p>\n",
              "</div>\n",
              "    <div class=\"colab-df-buttons\">\n",
              "\n",
              "  <div class=\"colab-df-container\">\n",
              "    <button class=\"colab-df-convert\" onclick=\"convertToInteractive('df-c980da51-ae32-43fc-a4c5-83d49505dd9a')\"\n",
              "            title=\"Convert this dataframe to an interactive table.\"\n",
              "            style=\"display:none;\">\n",
              "\n",
              "  <svg xmlns=\"http://www.w3.org/2000/svg\" height=\"24px\" viewBox=\"0 -960 960 960\">\n",
              "    <path d=\"M120-120v-720h720v720H120Zm60-500h600v-160H180v160Zm220 220h160v-160H400v160Zm0 220h160v-160H400v160ZM180-400h160v-160H180v160Zm440 0h160v-160H620v160ZM180-180h160v-160H180v160Zm440 0h160v-160H620v160Z\"/>\n",
              "  </svg>\n",
              "    </button>\n",
              "\n",
              "  <style>\n",
              "    .colab-df-container {\n",
              "      display:flex;\n",
              "      gap: 12px;\n",
              "    }\n",
              "\n",
              "    .colab-df-convert {\n",
              "      background-color: #E8F0FE;\n",
              "      border: none;\n",
              "      border-radius: 50%;\n",
              "      cursor: pointer;\n",
              "      display: none;\n",
              "      fill: #1967D2;\n",
              "      height: 32px;\n",
              "      padding: 0 0 0 0;\n",
              "      width: 32px;\n",
              "    }\n",
              "\n",
              "    .colab-df-convert:hover {\n",
              "      background-color: #E2EBFA;\n",
              "      box-shadow: 0px 1px 2px rgba(60, 64, 67, 0.3), 0px 1px 3px 1px rgba(60, 64, 67, 0.15);\n",
              "      fill: #174EA6;\n",
              "    }\n",
              "\n",
              "    .colab-df-buttons div {\n",
              "      margin-bottom: 4px;\n",
              "    }\n",
              "\n",
              "    [theme=dark] .colab-df-convert {\n",
              "      background-color: #3B4455;\n",
              "      fill: #D2E3FC;\n",
              "    }\n",
              "\n",
              "    [theme=dark] .colab-df-convert:hover {\n",
              "      background-color: #434B5C;\n",
              "      box-shadow: 0px 1px 3px 1px rgba(0, 0, 0, 0.15);\n",
              "      filter: drop-shadow(0px 1px 2px rgba(0, 0, 0, 0.3));\n",
              "      fill: #FFFFFF;\n",
              "    }\n",
              "  </style>\n",
              "\n",
              "    <script>\n",
              "      const buttonEl =\n",
              "        document.querySelector('#df-c980da51-ae32-43fc-a4c5-83d49505dd9a button.colab-df-convert');\n",
              "      buttonEl.style.display =\n",
              "        google.colab.kernel.accessAllowed ? 'block' : 'none';\n",
              "\n",
              "      async function convertToInteractive(key) {\n",
              "        const element = document.querySelector('#df-c980da51-ae32-43fc-a4c5-83d49505dd9a');\n",
              "        const dataTable =\n",
              "          await google.colab.kernel.invokeFunction('convertToInteractive',\n",
              "                                                    [key], {});\n",
              "        if (!dataTable) return;\n",
              "\n",
              "        const docLinkHtml = 'Like what you see? Visit the ' +\n",
              "          '<a target=\"_blank\" href=https://colab.research.google.com/notebooks/data_table.ipynb>data table notebook</a>'\n",
              "          + ' to learn more about interactive tables.';\n",
              "        element.innerHTML = '';\n",
              "        dataTable['output_type'] = 'display_data';\n",
              "        await google.colab.output.renderOutput(dataTable, element);\n",
              "        const docLink = document.createElement('div');\n",
              "        docLink.innerHTML = docLinkHtml;\n",
              "        element.appendChild(docLink);\n",
              "      }\n",
              "    </script>\n",
              "  </div>\n",
              "\n",
              "\n",
              "<div id=\"df-60e3b0ce-506b-46a2-9c25-526351a72b6a\">\n",
              "  <button class=\"colab-df-quickchart\" onclick=\"quickchart('df-60e3b0ce-506b-46a2-9c25-526351a72b6a')\"\n",
              "            title=\"Suggest charts\"\n",
              "            style=\"display:none;\">\n",
              "\n",
              "<svg xmlns=\"http://www.w3.org/2000/svg\" height=\"24px\"viewBox=\"0 0 24 24\"\n",
              "     width=\"24px\">\n",
              "    <g>\n",
              "        <path d=\"M19 3H5c-1.1 0-2 .9-2 2v14c0 1.1.9 2 2 2h14c1.1 0 2-.9 2-2V5c0-1.1-.9-2-2-2zM9 17H7v-7h2v7zm4 0h-2V7h2v10zm4 0h-2v-4h2v4z\"/>\n",
              "    </g>\n",
              "</svg>\n",
              "  </button>\n",
              "\n",
              "<style>\n",
              "  .colab-df-quickchart {\n",
              "      --bg-color: #E8F0FE;\n",
              "      --fill-color: #1967D2;\n",
              "      --hover-bg-color: #E2EBFA;\n",
              "      --hover-fill-color: #174EA6;\n",
              "      --disabled-fill-color: #AAA;\n",
              "      --disabled-bg-color: #DDD;\n",
              "  }\n",
              "\n",
              "  [theme=dark] .colab-df-quickchart {\n",
              "      --bg-color: #3B4455;\n",
              "      --fill-color: #D2E3FC;\n",
              "      --hover-bg-color: #434B5C;\n",
              "      --hover-fill-color: #FFFFFF;\n",
              "      --disabled-bg-color: #3B4455;\n",
              "      --disabled-fill-color: #666;\n",
              "  }\n",
              "\n",
              "  .colab-df-quickchart {\n",
              "    background-color: var(--bg-color);\n",
              "    border: none;\n",
              "    border-radius: 50%;\n",
              "    cursor: pointer;\n",
              "    display: none;\n",
              "    fill: var(--fill-color);\n",
              "    height: 32px;\n",
              "    padding: 0;\n",
              "    width: 32px;\n",
              "  }\n",
              "\n",
              "  .colab-df-quickchart:hover {\n",
              "    background-color: var(--hover-bg-color);\n",
              "    box-shadow: 0 1px 2px rgba(60, 64, 67, 0.3), 0 1px 3px 1px rgba(60, 64, 67, 0.15);\n",
              "    fill: var(--button-hover-fill-color);\n",
              "  }\n",
              "\n",
              "  .colab-df-quickchart-complete:disabled,\n",
              "  .colab-df-quickchart-complete:disabled:hover {\n",
              "    background-color: var(--disabled-bg-color);\n",
              "    fill: var(--disabled-fill-color);\n",
              "    box-shadow: none;\n",
              "  }\n",
              "\n",
              "  .colab-df-spinner {\n",
              "    border: 2px solid var(--fill-color);\n",
              "    border-color: transparent;\n",
              "    border-bottom-color: var(--fill-color);\n",
              "    animation:\n",
              "      spin 1s steps(1) infinite;\n",
              "  }\n",
              "\n",
              "  @keyframes spin {\n",
              "    0% {\n",
              "      border-color: transparent;\n",
              "      border-bottom-color: var(--fill-color);\n",
              "      border-left-color: var(--fill-color);\n",
              "    }\n",
              "    20% {\n",
              "      border-color: transparent;\n",
              "      border-left-color: var(--fill-color);\n",
              "      border-top-color: var(--fill-color);\n",
              "    }\n",
              "    30% {\n",
              "      border-color: transparent;\n",
              "      border-left-color: var(--fill-color);\n",
              "      border-top-color: var(--fill-color);\n",
              "      border-right-color: var(--fill-color);\n",
              "    }\n",
              "    40% {\n",
              "      border-color: transparent;\n",
              "      border-right-color: var(--fill-color);\n",
              "      border-top-color: var(--fill-color);\n",
              "    }\n",
              "    60% {\n",
              "      border-color: transparent;\n",
              "      border-right-color: var(--fill-color);\n",
              "    }\n",
              "    80% {\n",
              "      border-color: transparent;\n",
              "      border-right-color: var(--fill-color);\n",
              "      border-bottom-color: var(--fill-color);\n",
              "    }\n",
              "    90% {\n",
              "      border-color: transparent;\n",
              "      border-bottom-color: var(--fill-color);\n",
              "    }\n",
              "  }\n",
              "</style>\n",
              "\n",
              "  <script>\n",
              "    async function quickchart(key) {\n",
              "      const quickchartButtonEl =\n",
              "        document.querySelector('#' + key + ' button');\n",
              "      quickchartButtonEl.disabled = true;  // To prevent multiple clicks.\n",
              "      quickchartButtonEl.classList.add('colab-df-spinner');\n",
              "      try {\n",
              "        const charts = await google.colab.kernel.invokeFunction(\n",
              "            'suggestCharts', [key], {});\n",
              "      } catch (error) {\n",
              "        console.error('Error during call to suggestCharts:', error);\n",
              "      }\n",
              "      quickchartButtonEl.classList.remove('colab-df-spinner');\n",
              "      quickchartButtonEl.classList.add('colab-df-quickchart-complete');\n",
              "    }\n",
              "    (() => {\n",
              "      let quickchartButtonEl =\n",
              "        document.querySelector('#df-60e3b0ce-506b-46a2-9c25-526351a72b6a button');\n",
              "      quickchartButtonEl.style.display =\n",
              "        google.colab.kernel.accessAllowed ? 'block' : 'none';\n",
              "    })();\n",
              "  </script>\n",
              "</div>\n",
              "\n",
              "    </div>\n",
              "  </div>\n"
            ],
            "application/vnd.google.colaboratory.intrinsic+json": {
              "type": "dataframe",
              "summary": "{\n  \"name\": \")\",\n  \"rows\": 756,\n  \"fields\": [\n    {\n      \"column\": \"month\",\n      \"properties\": {\n        \"dtype\": \"date\",\n        \"min\": \"1960-01-01 00:00:00\",\n        \"max\": \"2022-12-01 00:00:00\",\n        \"num_unique_values\": 756,\n        \"samples\": [\n          \"1994-01-01 00:00:00\",\n          \"1968-02-01 00:00:00\",\n          \"1995-05-01 00:00:00\"\n        ],\n        \"semantic_type\": \"\",\n        \"description\": \"\"\n      }\n    },\n    {\n      \"column\": \"rf\",\n      \"properties\": {\n        \"dtype\": \"number\",\n        \"std\": 0.0026260627154759074,\n        \"min\": 0.0,\n        \"max\": 0.013500000000000002,\n        \"num_unique_values\": 106,\n        \"samples\": [\n          0.0003,\n          0.0014000000000000002,\n          0.0027\n        ],\n        \"semantic_type\": \"\",\n        \"description\": \"\"\n      }\n    }\n  ]\n}"
            }
          },
          "metadata": {},
          "execution_count": 24
        }
      ]
    },
    {
      "cell_type": "code",
      "source": [
        "data_dict = {\n",
        "    \"factors_ff5_monthly\": factors_ff5_monthly,\n",
        "    \"factors_ff3_daily\": factors_ff3_daily,\n",
        "    \"industries_ff_monthly\": industries_ff_monthly,\n",
        "    \"factors_q_monthly\": factors_q_monthly,\n",
        "    \"macro_predictors\": macro_predictors,\n",
        "    \"cpi_monthly\": cpi_monthly\n",
        "}\n",
        "\n",
        "for key, value in data_dict.items():\n",
        "    value.to_sql(\n",
        "        name=key,\n",
        "        con=tidy_finance,\n",
        "        if_exists=\"replace\",\n",
        "        index=False\n",
        "    )\n"
      ],
      "metadata": {
        "id": "9QmdA5rhDoWo"
      },
      "execution_count": 27,
      "outputs": []
    },
    {
      "cell_type": "code",
      "source": [
        "#import pandas as pd\n",
        "#import sqlite3"
      ],
      "metadata": {
        "id": "Pw8Ba-FDD7yr"
      },
      "execution_count": 28,
      "outputs": []
    },
    {
      "cell_type": "code",
      "source": [
        "#Use the code in the next line\n",
        "\n",
        "#tidy_finance = sqlite3.connect(database=\"/content/drive/My Drive/tidy_finance_python.sqlite\")\n",
        "#factors_q_monthly = pd.read_sql_query(\n",
        "#sql=\"SELECT * FROM factors_q_monthly\",\n",
        "#con=tidy_finance,\n",
        "#parse_dates={\"month\"}\n",
        "#)"
      ],
      "metadata": {
        "id": "iP6hXAMED_fF"
      },
      "execution_count": 31,
      "outputs": []
    },
    {
      "cell_type": "code",
      "source": [
        "import sqlite3\n",
        "import pandas as pd\n",
        "\n",
        "# Connect to the database in Google Drive\n",
        "tidy_finance = sqlite3.connect(database=\"/content/drive/My Drive/tidy_finance_python.sqlite\")\n",
        "\n",
        "# Query the factors_q_monthly table\n",
        "factors_q_monthly = pd.read_sql_query(\n",
        "    sql=\"SELECT * FROM factors_q_monthly\",\n",
        "    con=tidy_finance,\n",
        "    parse_dates=[\"month\"]  # Corrected to a list\n",
        ")\n"
      ],
      "metadata": {
        "id": "q6KtjltsEYSG"
      },
      "execution_count": 32,
      "outputs": []
    },
    {
      "cell_type": "code",
      "source": [
        "factors_q_monthly = pd.read_sql_query(\n",
        "    sql=\"SELECT * FROM factors_q_monthly\",\n",
        "    con=tidy_finance,\n",
        "    parse_dates=[\"month\"]  # Corrected to a list\n",
        ")"
      ],
      "metadata": {
        "id": "LJ4GC8Z_FY8I"
      },
      "execution_count": 39,
      "outputs": []
    },
    {
      "cell_type": "code",
      "source": [
        "#check if table exists\n",
        "cursor = tidy_finance.cursor()\n",
        "cursor.execute(\"SELECT name FROM sqlite_master WHERE type='table';\")\n",
        "tables = cursor.fetchall()\n",
        "print(\"Tables in the database:\", tables)\n"
      ],
      "metadata": {
        "colab": {
          "base_uri": "https://localhost:8080/"
        },
        "id": "M61RafimEwQv",
        "outputId": "30c41f25-6dc3-4cad-d154-a7973571d099"
      },
      "execution_count": 34,
      "outputs": [
        {
          "output_type": "stream",
          "name": "stdout",
          "text": [
            "Tables in the database: [('factors_ff3_monthly',), ('factors_ff5_monthly',), ('factors_ff3_daily',), ('industries_ff_monthly',), ('factors_q_monthly',), ('macro_predictors',), ('cpi_monthly',)]\n"
          ]
        }
      ]
    },
    {
      "cell_type": "code",
      "source": [
        "import os\n",
        "\n",
        "# Check if the file exists at the specified path\n",
        "db_path = \"/content/drive/My Drive/tidy_finance_python.sqlite\"\n",
        "print(\"Database file exists:\", os.path.exists(db_path))\n",
        "\n",
        "# Attempt to connect\n",
        "try:\n",
        "    tidy_finance = sqlite3.connect(db_path)\n",
        "    print(\"Connection successful!\")\n",
        "except Exception as e:\n",
        "    print(\"Connection failed:\", e)\n"
      ],
      "metadata": {
        "colab": {
          "base_uri": "https://localhost:8080/"
        },
        "id": "899icfxdFAzS",
        "outputId": "d55997dd-7d38-4633-b0ef-eb1d71604b21"
      },
      "execution_count": 35,
      "outputs": [
        {
          "output_type": "stream",
          "name": "stdout",
          "text": [
            "Database file exists: True\n",
            "Connection successful!\n"
          ]
        }
      ]
    },
    {
      "cell_type": "code",
      "source": [
        "cursor = tidy_finance.cursor()\n",
        "\n",
        "# List all tables in the database\n",
        "cursor.execute(\"SELECT name FROM sqlite_master WHERE type='table';\")\n",
        "tables = cursor.fetchall()\n",
        "print(\"Tables in the database:\", tables)\n"
      ],
      "metadata": {
        "colab": {
          "base_uri": "https://localhost:8080/"
        },
        "id": "gcMbulXnFE_A",
        "outputId": "3b11f6db-f3bd-4cb0-d4ac-86d015ccd2a8"
      },
      "execution_count": 36,
      "outputs": [
        {
          "output_type": "stream",
          "name": "stdout",
          "text": [
            "Tables in the database: [('factors_ff3_monthly',), ('factors_ff5_monthly',), ('factors_ff3_daily',), ('industries_ff_monthly',), ('factors_q_monthly',), ('macro_predictors',), ('cpi_monthly',)]\n"
          ]
        }
      ]
    },
    {
      "cell_type": "code",
      "source": [
        "try:\n",
        "    cursor.execute(\"SELECT COUNT(*) FROM factors_q_monthly\")\n",
        "    row_count = cursor.fetchone()[0]\n",
        "    print(f\"Number of rows in factors_q_monthly: {row_count}\")\n",
        "except Exception as e:\n",
        "    print(\"Error querying the table:\", e)\n"
      ],
      "metadata": {
        "colab": {
          "base_uri": "https://localhost:8080/"
        },
        "id": "0jZJj0zeFKi7",
        "outputId": "9ae52526-81c6-4ce4-a776-b3eadaab6628"
      },
      "execution_count": 37,
      "outputs": [
        {
          "output_type": "stream",
          "name": "stdout",
          "text": [
            "Number of rows in factors_q_monthly: 672\n"
          ]
        }
      ]
    },
    {
      "cell_type": "code",
      "source": [
        "try:\n",
        "    cursor.execute(\"SELECT * FROM factors_q_monthly LIMIT 5\")\n",
        "    rows = cursor.fetchall()\n",
        "    for row in rows:\n",
        "        print(row)\n",
        "except Exception as e:\n",
        "    print(\"Error executing query:\", e)\n"
      ],
      "metadata": {
        "colab": {
          "base_uri": "https://localhost:8080/"
        },
        "id": "g2dY9qlVFL8k",
        "outputId": "318d4384-3548-482e-8112-78e86e027dbe"
      },
      "execution_count": 38,
      "outputs": [
        {
          "output_type": "stream",
          "name": "stdout",
          "text": [
            "('1967-01-01 00:00:00', -0.021768999999999997, -0.021768999999999997, -0.021768999999999997, -0.021768999999999997)\n",
            "('1967-02-01 00:00:00', 0.022210999999999998, 0.022210999999999998, 0.022210999999999998, 0.022210999999999998)\n",
            "('1967-03-01 00:00:00', -0.010360000000000001, -0.010360000000000001, -0.010360000000000001, -0.010360000000000001)\n",
            "('1967-04-01 00:00:00', -0.017259, -0.017259, -0.017259, -0.017259)\n",
            "('1967-05-01 00:00:00', 0.001578, 0.001578, 0.001578, 0.001578)\n"
          ]
        }
      ]
    }
  ]
}